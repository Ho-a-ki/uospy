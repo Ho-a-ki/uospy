{
 "cells": [
  {
   "cell_type": "code",
   "execution_count": 1,
   "metadata": {},
   "outputs": [],
   "source": [
    "animal = 'fruitbat'"
   ]
  },
  {
   "cell_type": "code",
   "execution_count": 5,
   "metadata": {},
   "outputs": [],
   "source": [
    "def printg():\n",
    "    print('inside printg: ', animal)\n",
    "    #fuction 에서 global 함수를 쓸 수 있는 것.\n",
    "\n",
    "def change_local():\n",
    "    animal = 'wombat'\n",
    "    print('fuc change_local :' , animal , id(animal))"
   ]
  },
  {
   "cell_type": "code",
   "execution_count": 10,
   "metadata": {},
   "outputs": [
    {
     "name": "stdout",
     "output_type": "stream",
     "text": [
      "fuc change_local : wombat 2479181843792\n",
      "global varialbe \"animal\" : fruitbat 2479158150064\n"
     ]
    }
   ],
   "source": [
    "change_local()\n",
    "print('global varialbe \"animal\" :', animal, id(animal))\n",
    "\n",
    "#두가지의 id가 다르며 펑션 안에서 재정의된 local 변수는 global에 영향 X"
   ]
  },
  {
   "cell_type": "code",
   "execution_count": 11,
   "metadata": {},
   "outputs": [
    {
     "data": {
      "text/plain": [
       "'fruitbat'"
      ]
     },
     "execution_count": 11,
     "metadata": {},
     "output_type": "execute_result"
    }
   ],
   "source": [
    "animal\n",
    "#local 변수가 global에 영향을 주지 않는 다는 것을 return 된 값으로 확인가능."
   ]
  },
  {
   "cell_type": "code",
   "execution_count": 31,
   "metadata": {},
   "outputs": [],
   "source": [
    "def change_local2():\n",
    "    print('inside printg: ', animal)\n",
    "    animal = 'wombat'\n",
    "    print('fuc change_local :' , animal)"
   ]
  },
  {
   "cell_type": "code",
   "execution_count": 34,
   "metadata": {},
   "outputs": [
    {
     "ename": "UnboundLocalError",
     "evalue": "local variable 'animal' referenced before assignment",
     "output_type": "error",
     "traceback": [
      "\u001b[1;31m---------------------------------------------------------------------------\u001b[0m",
      "\u001b[1;31mUnboundLocalError\u001b[0m                         Traceback (most recent call last)",
      "\u001b[1;32m<ipython-input-34-a8047e8fc7f7>\u001b[0m in \u001b[0;36m<module>\u001b[1;34m\u001b[0m\n\u001b[1;32m----> 1\u001b[1;33m \u001b[0mchange_local2\u001b[0m\u001b[1;33m(\u001b[0m\u001b[1;33m)\u001b[0m\u001b[1;33m\u001b[0m\u001b[1;33m\u001b[0m\u001b[0m\n\u001b[0m\u001b[0;32m      2\u001b[0m \u001b[1;31m#return error 뱉어낸다.\u001b[0m\u001b[1;33m\u001b[0m\u001b[1;33m\u001b[0m\u001b[1;33m\u001b[0m\u001b[0m\n\u001b[0;32m      3\u001b[0m \u001b[1;31m#이는 글로벌 변수를 가져와서 로컬에서 체인지 할 수 없을을 의미한다.\u001b[0m\u001b[1;33m\u001b[0m\u001b[1;33m\u001b[0m\u001b[1;33m\u001b[0m\u001b[0m\n\u001b[0;32m      4\u001b[0m \u001b[1;31m#어쨋든 로컬에서 assignment하기 전에 참조할 수 없다는 의미.\u001b[0m\u001b[1;33m\u001b[0m\u001b[1;33m\u001b[0m\u001b[1;33m\u001b[0m\u001b[0m\n",
      "\u001b[1;32m<ipython-input-31-4de21b461cd4>\u001b[0m in \u001b[0;36mchange_local2\u001b[1;34m()\u001b[0m\n\u001b[0;32m      1\u001b[0m \u001b[1;32mdef\u001b[0m \u001b[0mchange_local2\u001b[0m\u001b[1;33m(\u001b[0m\u001b[1;33m)\u001b[0m\u001b[1;33m:\u001b[0m\u001b[1;33m\u001b[0m\u001b[1;33m\u001b[0m\u001b[0m\n\u001b[1;32m----> 2\u001b[1;33m     \u001b[0mprint\u001b[0m\u001b[1;33m(\u001b[0m\u001b[1;34m'inside printg: '\u001b[0m\u001b[1;33m,\u001b[0m \u001b[0manimal\u001b[0m\u001b[1;33m)\u001b[0m\u001b[1;33m\u001b[0m\u001b[1;33m\u001b[0m\u001b[0m\n\u001b[0m\u001b[0;32m      3\u001b[0m     \u001b[0manimal\u001b[0m \u001b[1;33m=\u001b[0m \u001b[1;34m'wombat'\u001b[0m\u001b[1;33m\u001b[0m\u001b[1;33m\u001b[0m\u001b[0m\n\u001b[0;32m      4\u001b[0m     \u001b[0mprint\u001b[0m\u001b[1;33m(\u001b[0m\u001b[1;34m'fuc change_local :'\u001b[0m \u001b[1;33m,\u001b[0m \u001b[0manimal\u001b[0m\u001b[1;33m)\u001b[0m\u001b[1;33m\u001b[0m\u001b[1;33m\u001b[0m\u001b[0m\n",
      "\u001b[1;31mUnboundLocalError\u001b[0m: local variable 'animal' referenced before assignment"
     ]
    }
   ],
   "source": [
    "change_local2()\n",
    "#return error 뱉어낸다.\n",
    "#이는 글로벌 변수를 가져와서 로컬에서 체인지 할 수 없을을 의미한다.\n",
    "#어쨋든 로컬에서 assignment하기 전에 참조할 수 없다는 의미."
   ]
  },
  {
   "cell_type": "code",
   "execution_count": 23,
   "metadata": {},
   "outputs": [],
   "source": [
    "def change_local3():\n",
    "    global animal\n",
    "    #이렇게 글로벌 설정된 animal을 불러오면 오류가 발생하지 않는다.\n",
    "    print('inside printg: ', animal)\n",
    "    animal = 'wombat'\n",
    "    print('fuc change_local :' , animal)\n",
    "    #animal 자체가 글로벌로 설정되어 여기서, animal은 로컬변수가 아니라 global 변수다 "
   ]
  },
  {
   "cell_type": "code",
   "execution_count": 22,
   "metadata": {},
   "outputs": [
    {
     "name": "stdout",
     "output_type": "stream",
     "text": [
      "inside printg:  wombat\n",
      "fuc change_local : wombat\n"
     ]
    },
    {
     "data": {
      "text/plain": [
       "'wombat'"
      ]
     },
     "execution_count": 22,
     "metadata": {},
     "output_type": "execute_result"
    }
   ],
   "source": [
    "change_local3()\n",
    "animal"
   ]
  },
  {
   "cell_type": "markdown",
   "metadata": {},
   "source": [
    "## Handle Errors with try and except"
   ]
  },
  {
   "cell_type": "code",
   "execution_count": 37,
   "metadata": {},
   "outputs": [
    {
     "ename": "IndexError",
     "evalue": "list index out of range",
     "output_type": "error",
     "traceback": [
      "\u001b[1;31m---------------------------------------------------------------------------\u001b[0m",
      "\u001b[1;31mIndexError\u001b[0m                                Traceback (most recent call last)",
      "\u001b[1;32m<ipython-input-37-1ec3ab8a0519>\u001b[0m in \u001b[0;36m<module>\u001b[1;34m\u001b[0m\n\u001b[0;32m      1\u001b[0m \u001b[0mshort_list\u001b[0m \u001b[1;33m=\u001b[0m \u001b[1;33m[\u001b[0m\u001b[1;36m1\u001b[0m\u001b[1;33m,\u001b[0m\u001b[1;36m2\u001b[0m\u001b[1;33m,\u001b[0m\u001b[1;36m3\u001b[0m\u001b[1;33m]\u001b[0m\u001b[1;33m\u001b[0m\u001b[1;33m\u001b[0m\u001b[0m\n\u001b[0;32m      2\u001b[0m \u001b[0mposition\u001b[0m \u001b[1;33m=\u001b[0m \u001b[1;36m5\u001b[0m\u001b[1;33m\u001b[0m\u001b[1;33m\u001b[0m\u001b[0m\n\u001b[1;32m----> 3\u001b[1;33m \u001b[0mshort_list\u001b[0m\u001b[1;33m[\u001b[0m\u001b[0mposition\u001b[0m\u001b[1;33m]\u001b[0m \u001b[1;31m#list out of range.\u001b[0m\u001b[1;33m\u001b[0m\u001b[1;33m\u001b[0m\u001b[0m\n\u001b[0m",
      "\u001b[1;31mIndexError\u001b[0m: list index out of range"
     ]
    }
   ],
   "source": [
    "short_list = [1,2,3]\n",
    "position = 5\n",
    "short_list[position] #list out of range."
   ]
  },
  {
   "cell_type": "code",
   "execution_count": 40,
   "metadata": {},
   "outputs": [
    {
     "name": "stdout",
     "output_type": "stream",
     "text": [
      "Need a postion between 0 and 2 but got 5\n"
     ]
    }
   ],
   "source": [
    "try:\n",
    "    short_list[position]\n",
    "except:\n",
    "    print(\"Need a postion between 0 and\", len(short_list)-1, 'but got', position)\n",
    "#에러가 뜨면 아예 파일이 정지되기 때문에."
   ]
  },
  {
   "cell_type": "code",
   "execution_count": 43,
   "metadata": {},
   "outputs": [
    {
     "name": "stdout",
     "output_type": "stream",
     "text": [
      "position [q to quit]? 1\n",
      "2\n",
      "position [q to quit]? 2\n",
      "3\n",
      "position [q to quit]? 3\n",
      "Bad Index : 3 list index out of range\n",
      "position [q to quit]? 4\n",
      "Bad Index : 4 list index out of range\n",
      "position [q to quit]? a\n",
      "Somethin else broke: invalid literal for int() with base 10: 'a'\n",
      "position [q to quit]? g\n",
      "Somethin else broke: invalid literal for int() with base 10: 'g'\n",
      "position [q to quit]? 01\n",
      "2\n",
      "position [q to quit]? 0\n",
      "1\n",
      "position [q to quit]? 01\n",
      "2\n",
      "position [q to quit]? 3\n",
      "Bad Index : 3 list index out of range\n",
      "position [q to quit]? 5\n",
      "Bad Index : 5 list index out of range\n",
      "position [q to quit]? 102\n",
      "Bad Index : 102 list index out of range\n",
      "position [q to quit]? /\n",
      "Somethin else broke: invalid literal for int() with base 10: '/'\n",
      "position [q to quit]? vm\n",
      "Somethin else broke: invalid literal for int() with base 10: 'vm'\n",
      "position [q to quit]? asd\n",
      "Somethin else broke: invalid literal for int() with base 10: 'asd'\n",
      "position [q to quit]? 5\n",
      "Bad Index : 5 list index out of range\n",
      "position [q to quit]? q\n"
     ]
    }
   ],
   "source": [
    "#약간 자바스크립트에서 promise()쓰는 것처럼.\n",
    "\n",
    "while True:\n",
    "    val = input('position [q to quit]? ')\n",
    "    if val == 'q':\n",
    "        break\n",
    "        \n",
    "    try:\n",
    "        posi = int(val)\n",
    "        print(short_list[posi])\n",
    "    except IndexError as err:\n",
    "        print(\"Bad Index :\", posi, err)\n",
    "    except Exception as other:\n",
    "        print(\"Somethin else broke:\", other)"
   ]
  },
  {
   "cell_type": "markdown",
   "metadata": {},
   "source": [
    "## Module"
   ]
  },
  {
   "cell_type": "code",
   "execution_count": 18,
   "metadata": {},
   "outputs": [],
   "source": [
    "import report"
   ]
  },
  {
   "cell_type": "code",
   "execution_count": 13,
   "metadata": {},
   "outputs": [
    {
     "name": "stdout",
     "output_type": "stream",
     "text": [
      "Today's weather :  who knows?\n"
     ]
    }
   ],
   "source": [
    "desc = report.get_desc()\n",
    "print(\"Today's weather : \", desc)"
   ]
  },
  {
   "cell_type": "code",
   "execution_count": 21,
   "metadata": {},
   "outputs": [
    {
     "name": "stdout",
     "output_type": "stream",
     "text": [
      "C:\\Users\\Administrator\\workspace\\uospy\n",
      "c:\\programdata\\miniconda3\\python37.zip\n",
      "c:\\programdata\\miniconda3\\DLLs\n",
      "c:\\programdata\\miniconda3\\lib\n",
      "c:\\programdata\\miniconda3\n",
      "\n",
      "c:\\programdata\\miniconda3\\lib\\site-packages\n",
      "c:\\programdata\\miniconda3\\lib\\site-packages\\win32\n",
      "c:\\programdata\\miniconda3\\lib\\site-packages\\win32\\lib\n",
      "c:\\programdata\\miniconda3\\lib\\site-packages\\Pythonwin\n",
      "c:\\programdata\\miniconda3\\lib\\site-packages\\IPython\\extensions\n",
      "C:\\Users\\Administrator\\.ipython\n"
     ]
    }
   ],
   "source": [
    "import sys\n",
    "\n",
    "for place in sys.path:\n",
    "    print(place)"
   ]
  },
  {
   "cell_type": "code",
   "execution_count": 23,
   "metadata": {},
   "outputs": [],
   "source": [
    "\n",
    "import calendar"
   ]
  },
  {
   "cell_type": "code",
   "execution_count": 24,
   "metadata": {},
   "outputs": [
    {
     "name": "stdout",
     "output_type": "stream",
     "text": [
      "                                  2019\n",
      "\n",
      "      January                   February                   March\n",
      "Mo Tu We Th Fr Sa Su      Mo Tu We Th Fr Sa Su      Mo Tu We Th Fr Sa Su\n",
      "    1  2  3  4  5  6                   1  2  3                   1  2  3\n",
      " 7  8  9 10 11 12 13       4  5  6  7  8  9 10       4  5  6  7  8  9 10\n",
      "14 15 16 17 18 19 20      11 12 13 14 15 16 17      11 12 13 14 15 16 17\n",
      "21 22 23 24 25 26 27      18 19 20 21 22 23 24      18 19 20 21 22 23 24\n",
      "28 29 30 31               25 26 27 28               25 26 27 28 29 30 31\n",
      "\n",
      "       April                      May                       June\n",
      "Mo Tu We Th Fr Sa Su      Mo Tu We Th Fr Sa Su      Mo Tu We Th Fr Sa Su\n",
      " 1  2  3  4  5  6  7             1  2  3  4  5                      1  2\n",
      " 8  9 10 11 12 13 14       6  7  8  9 10 11 12       3  4  5  6  7  8  9\n",
      "15 16 17 18 19 20 21      13 14 15 16 17 18 19      10 11 12 13 14 15 16\n",
      "22 23 24 25 26 27 28      20 21 22 23 24 25 26      17 18 19 20 21 22 23\n",
      "29 30                     27 28 29 30 31            24 25 26 27 28 29 30\n",
      "\n",
      "        July                     August                  September\n",
      "Mo Tu We Th Fr Sa Su      Mo Tu We Th Fr Sa Su      Mo Tu We Th Fr Sa Su\n",
      " 1  2  3  4  5  6  7                1  2  3  4                         1\n",
      " 8  9 10 11 12 13 14       5  6  7  8  9 10 11       2  3  4  5  6  7  8\n",
      "15 16 17 18 19 20 21      12 13 14 15 16 17 18       9 10 11 12 13 14 15\n",
      "22 23 24 25 26 27 28      19 20 21 22 23 24 25      16 17 18 19 20 21 22\n",
      "29 30 31                  26 27 28 29 30 31         23 24 25 26 27 28 29\n",
      "                                                    30\n",
      "\n",
      "      October                   November                  December\n",
      "Mo Tu We Th Fr Sa Su      Mo Tu We Th Fr Sa Su      Mo Tu We Th Fr Sa Su\n",
      "    1  2  3  4  5  6                   1  2  3                         1\n",
      " 7  8  9 10 11 12 13       4  5  6  7  8  9 10       2  3  4  5  6  7  8\n",
      "14 15 16 17 18 19 20      11 12 13 14 15 16 17       9 10 11 12 13 14 15\n",
      "21 22 23 24 25 26 27      18 19 20 21 22 23 24      16 17 18 19 20 21 22\n",
      "28 29 30 31               25 26 27 28 29 30         23 24 25 26 27 28 29\n",
      "                                                    30 31\n",
      "\n"
     ]
    }
   ],
   "source": [
    "print(calendar.calendar(2019))"
   ]
  },
  {
   "cell_type": "code",
   "execution_count": 28,
   "metadata": {},
   "outputs": [],
   "source": [
    "import bs4\n",
    "import requests"
   ]
  },
  {
   "cell_type": "code",
   "execution_count": 29,
   "metadata": {},
   "outputs": [],
   "source": [
    "r = requests.get('http://www.weather.go.kr/weather/forecast/mid-term-rss3.jsp?stnId-108')"
   ]
  },
  {
   "cell_type": "code",
   "execution_count": 30,
   "metadata": {},
   "outputs": [],
   "source": [
    "soup = bs4.BeautifulSoup(r.text , 'html.parser')"
   ]
  },
  {
   "cell_type": "code",
   "execution_count": 39,
   "metadata": {},
   "outputs": [
    {
     "name": "stdout",
     "output_type": "stream",
     "text": [
      "도시:  서울\n",
      "날씨:  구름많음\n",
      "최저기온:  13\n",
      "최고기온:  22\n",
      "\n",
      "도시:  인천\n",
      "날씨:  구름많음\n",
      "최저기온:  14\n",
      "최고기온:  21\n",
      "\n",
      "도시:  수원\n",
      "날씨:  구름많음\n",
      "최저기온:  12\n",
      "최고기온:  22\n",
      "\n",
      "도시:  파주\n",
      "날씨:  구름많음\n",
      "최저기온:  9\n",
      "최고기온:  21\n",
      "\n",
      "도시:  이천\n",
      "날씨:  구름많음\n",
      "최저기온:  10\n",
      "최고기온:  21\n",
      "\n",
      "도시:  평택\n",
      "날씨:  구름많음\n",
      "최저기온:  13\n",
      "최고기온:  22\n",
      "\n",
      "도시:  춘천\n",
      "날씨:  구름많음\n",
      "최저기온:  12\n",
      "최고기온:  22\n",
      "\n",
      "도시:  원주\n",
      "날씨:  구름많음\n",
      "최저기온:  11\n",
      "최고기온:  22\n",
      "\n",
      "도시:  강릉\n",
      "날씨:  구름많음\n",
      "최저기온:  12\n",
      "최고기온:  19\n",
      "\n",
      "도시:  대전\n",
      "날씨:  구름많음\n",
      "최저기온:  13\n",
      "최고기온:  22\n",
      "\n",
      "도시:  세종\n",
      "날씨:  구름많음\n",
      "최저기온:  11\n",
      "최고기온:  20\n",
      "\n",
      "도시:  홍성\n",
      "날씨:  구름많음\n",
      "최저기온:  10\n",
      "최고기온:  21\n",
      "\n",
      "도시:  청주\n",
      "날씨:  구름많음\n",
      "최저기온:  13\n",
      "최고기온:  21\n",
      "\n",
      "도시:  충주\n",
      "날씨:  구름많음\n",
      "최저기온:  10\n",
      "최고기온:  21\n",
      "\n",
      "도시:  영동\n",
      "날씨:  구름많음\n",
      "최저기온:  10\n",
      "최고기온:  21\n",
      "\n",
      "도시:  광주\n",
      "날씨:  구름많음\n",
      "최저기온:  14\n",
      "최고기온:  22\n",
      "\n",
      "도시:  목포\n",
      "날씨:  구름많음\n",
      "최저기온:  15\n",
      "최고기온:  22\n",
      "\n",
      "도시:  여수\n",
      "날씨:  구름많음\n",
      "최저기온:  16\n",
      "최고기온:  21\n",
      "\n",
      "도시:  순천\n",
      "날씨:  구름많음\n",
      "최저기온:  14\n",
      "최고기온:  23\n",
      "\n",
      "도시:  광양\n",
      "날씨:  구름많음\n",
      "최저기온:  14\n",
      "최고기온:  23\n",
      "\n",
      "도시:  나주\n",
      "날씨:  구름많음\n",
      "최저기온:  12\n",
      "최고기온:  23\n",
      "\n",
      "도시:  전주\n",
      "날씨:  구름많음\n",
      "최저기온:  13\n",
      "최고기온:  22\n",
      "\n",
      "도시:  군산\n",
      "날씨:  구름많음\n",
      "최저기온:  14\n",
      "최고기온:  21\n",
      "\n",
      "도시:  정읍\n",
      "날씨:  구름많음\n",
      "최저기온:  13\n",
      "최고기온:  22\n",
      "\n",
      "도시:  남원\n",
      "날씨:  구름많음\n",
      "최저기온:  13\n",
      "최고기온:  22\n",
      "\n",
      "도시:  고창\n",
      "날씨:  구름많음\n",
      "최저기온:  12\n",
      "최고기온:  22\n",
      "\n",
      "도시:  무주\n",
      "날씨:  구름많음\n",
      "최저기온:  11\n",
      "최고기온:  21\n",
      "\n",
      "도시:  부산\n",
      "날씨:  구름많음\n",
      "최저기온:  16\n",
      "최고기온:  22\n",
      "\n",
      "도시:  울산\n",
      "날씨:  구름많음\n",
      "최저기온:  15\n",
      "최고기온:  20\n",
      "\n",
      "도시:  창원\n",
      "날씨:  구름많음\n",
      "최저기온:  16\n",
      "최고기온:  22\n",
      "\n",
      "도시:  진주\n",
      "날씨:  구름많음\n",
      "최저기온:  13\n",
      "최고기온:  22\n",
      "\n",
      "도시:  거창\n",
      "날씨:  구름많음\n",
      "최저기온:  11\n",
      "최고기온:  21\n",
      "\n",
      "도시:  통영\n",
      "날씨:  구름많음\n",
      "최저기온:  16\n",
      "최고기온:  22\n",
      "\n",
      "도시:  대구\n",
      "날씨:  구름많음\n",
      "최저기온:  13\n",
      "최고기온:  21\n",
      "\n",
      "도시:  안동\n",
      "날씨:  구름많음\n",
      "최저기온:  10\n",
      "최고기온:  20\n",
      "\n",
      "도시:  포항\n",
      "날씨:  구름많음\n",
      "최저기온:  15\n",
      "최고기온:  21\n",
      "\n",
      "도시:  경주\n",
      "날씨:  구름많음\n",
      "최저기온:  12\n",
      "최고기온:  20\n",
      "\n",
      "도시:  울진\n",
      "날씨:  구름많음\n",
      "최저기온:  11\n",
      "최고기온:  20\n",
      "\n",
      "도시:  울릉도\n",
      "날씨:  구름많음\n",
      "최저기온:  14\n",
      "최고기온:  19\n",
      "\n",
      "도시:  제주\n",
      "날씨:  구름많음\n",
      "최저기온:  18\n",
      "최고기온:  23\n",
      "\n",
      "도시:  서귀포\n",
      "날씨:  구름많음\n",
      "최저기온:  19\n",
      "최고기온:  25\n",
      "\n"
     ]
    }
   ],
   "source": [
    "for l in soup.select('location'):\n",
    "    print('도시: ', l.select_one('city').string)\n",
    "    print('날씨: ', l.select_one('wf').string)\n",
    "    print('최저기온: ', l.select_one('tmn').string)\n",
    "    print('최고기온: ', l.select_one('tmx').string)\n",
    "    print()"
   ]
  },
  {
   "cell_type": "markdown",
   "metadata": {},
   "source": [
    "## module, packages, programs\n",
    "\n",
    "module 이란, 파이썬 코드 파일을 의미한다.\n",
    "\n",
    "* import 모듈\n",
    "* form 모듈 import *\n",
    "\n",
    "아래 처럼 쓰면 모듈.펑션 이렇게 안쓰고 그냥 펑션 바로 쓸 수 있음.\n",
    "\n",
    "* from 모듈 import 펑션\n",
    "\n",
    "모듈 안에서 펑션만 가지고옴\n",
    "\n",
    "if __name__ == __name__: 의 의미는?\n",
    "직접 실행되었을 때를 의미한다."
   ]
  },
  {
   "cell_type": "markdown",
   "metadata": {},
   "source": [
    "### Handle Missing key with setdefault() and defaultdict()"
   ]
  },
  {
   "cell_type": "code",
   "execution_count": 40,
   "metadata": {},
   "outputs": [
    {
     "name": "stdout",
     "output_type": "stream",
     "text": [
      "{'hydrogen': 1, 'helium': 2}\n"
     ]
    }
   ],
   "source": [
    "pe_dict = {'hydrogen' : 1 , 'helium' : 2}\n",
    "print(pe_dict)"
   ]
  },
  {
   "cell_type": "code",
   "execution_count": 44,
   "metadata": {},
   "outputs": [],
   "source": [
    "carbon = pe_dict.setdefault('carbon', 12)\n",
    "#carbon 변수에다가 숫자까지 넣을 수 있고, 사전에도 추가한다."
   ]
  },
  {
   "cell_type": "code",
   "execution_count": 42,
   "metadata": {},
   "outputs": [
    {
     "data": {
      "text/plain": [
       "12"
      ]
     },
     "execution_count": 42,
     "metadata": {},
     "output_type": "execute_result"
    }
   ],
   "source": [
    "carbon"
   ]
  },
  {
   "cell_type": "code",
   "execution_count": 43,
   "metadata": {},
   "outputs": [
    {
     "data": {
      "text/plain": [
       "{'hydrogen': 1, 'helium': 2, 'carbon': 12}"
      ]
     },
     "execution_count": 43,
     "metadata": {},
     "output_type": "execute_result"
    }
   ],
   "source": [
    "pe_dict"
   ]
  },
  {
   "cell_type": "code",
   "execution_count": 45,
   "metadata": {},
   "outputs": [],
   "source": [
    "from collections import defaultdict"
   ]
  },
  {
   "cell_type": "code",
   "execution_count": 46,
   "metadata": {},
   "outputs": [],
   "source": [
    "def no_idea():\n",
    "    return 'Huh?'"
   ]
  },
  {
   "cell_type": "code",
   "execution_count": 64,
   "metadata": {},
   "outputs": [],
   "source": [
    "best = defaultdict(no_idea)\n",
    "#변수로 callable한 값을 받는다."
   ]
  },
  {
   "cell_type": "code",
   "execution_count": 61,
   "metadata": {},
   "outputs": [
    {
     "data": {
      "text/plain": [
       "'Huh?'"
      ]
     },
     "execution_count": 61,
     "metadata": {},
     "output_type": "execute_result"
    }
   ],
   "source": [
    "best['A']"
   ]
  },
  {
   "cell_type": "code",
   "execution_count": 50,
   "metadata": {},
   "outputs": [
    {
     "data": {
      "text/plain": [
       "'Huh?'"
      ]
     },
     "execution_count": 50,
     "metadata": {},
     "output_type": "execute_result"
    }
   ],
   "source": [
    "best[\"B\"]"
   ]
  },
  {
   "cell_type": "code",
   "execution_count": 52,
   "metadata": {},
   "outputs": [],
   "source": [
    "best['C'] = 'Basil'"
   ]
  },
  {
   "cell_type": "code",
   "execution_count": 53,
   "metadata": {},
   "outputs": [
    {
     "data": {
      "text/plain": [
       "defaultdict(<function __main__.no_idea()>,\n",
       "            {'A': 'Huh?', 'B': 'Huh?', 'C': 'Basil'})"
      ]
     },
     "execution_count": 53,
     "metadata": {},
     "output_type": "execute_result"
    }
   ],
   "source": [
    "best"
   ]
  },
  {
   "cell_type": "markdown",
   "metadata": {},
   "source": [
    "## Packages, Programs.\n",
    "\n",
    "3.6이상 버전부터 __init__.py를 만들지 않아도 큰 문제는 없다.\n",
    "그러나 3.3이하 버전에는 __init__.py가 없으면 해당 디렉터리를 패키지로 인정하지 않음.\n",
    "\n",
    "* 패키지란 모듈의 묶음. 일종의 디렉터리 처럼 하나의 패키지 안에 여러가지 모듈\n",
    "* 모듈들이 서로 포함 관계 (의존성)을 지니며 패키지를 만듦."
   ]
  },
  {
   "cell_type": "code",
   "execution_count": 66,
   "metadata": {},
   "outputs": [
    {
     "name": "stdout",
     "output_type": "stream",
     "text": [
      "10\n"
     ]
    }
   ],
   "source": [
    "#뜬금없는 함수형 프로그래밍..\n",
    "new_lst = [1,2,3,4]\n",
    "\n",
    "def sum_list(lst):\n",
    "    if len(lst) == 1:\n",
    "        return lst[0]\n",
    "    else:\n",
    "        return lst[0] + sum_list(lst[1:])\n",
    "    \n",
    "print(sum_list(new_lst))"
   ]
  },
  {
   "cell_type": "code",
   "execution_count": null,
   "metadata": {},
   "outputs": [],
   "source": []
  }
 ],
 "metadata": {
  "kernelspec": {
   "display_name": "Python 3",
   "language": "python",
   "name": "python3"
  },
  "language_info": {
   "codemirror_mode": {
    "name": "ipython",
    "version": 3
   },
   "file_extension": ".py",
   "mimetype": "text/x-python",
   "name": "python",
   "nbconvert_exporter": "python",
   "pygments_lexer": "ipython3",
   "version": "3.7.3"
  }
 },
 "nbformat": 4,
 "nbformat_minor": 2
}
