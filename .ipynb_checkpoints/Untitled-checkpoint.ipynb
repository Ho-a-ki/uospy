{
 "cells": [
  {
   "cell_type": "code",
   "execution_count": 1,
   "metadata": {},
   "outputs": [],
   "source": [
    "animal = 'fruitbat'"
   ]
  },
  {
   "cell_type": "code",
   "execution_count": 5,
   "metadata": {},
   "outputs": [],
   "source": [
    "def printg():\n",
    "    print('inside printg: ', animal)\n",
    "    #fuction 에서 global 함수를 쓸 수 있는 것.\n",
    "\n",
    "def change_local():\n",
    "    animal = 'wombat'\n",
    "    print('fuc change_local :' , animal , id(animal))"
   ]
  },
  {
   "cell_type": "code",
   "execution_count": 10,
   "metadata": {},
   "outputs": [
    {
     "name": "stdout",
     "output_type": "stream",
     "text": [
      "fuc change_local : wombat 2479181843792\n",
      "global varialbe \"animal\" : fruitbat 2479158150064\n"
     ]
    }
   ],
   "source": [
    "change_local()\n",
    "print('global varialbe \"animal\" :', animal, id(animal))\n",
    "\n",
    "#두가지의 id가 다르며 펑션 안에서 재정의된 local 변수는 global에 영향 X"
   ]
  },
  {
   "cell_type": "code",
   "execution_count": 11,
   "metadata": {},
   "outputs": [
    {
     "data": {
      "text/plain": [
       "'fruitbat'"
      ]
     },
     "execution_count": 11,
     "metadata": {},
     "output_type": "execute_result"
    }
   ],
   "source": [
    "animal\n",
    "#local 변수가 global에 영향을 주지 않는 다는 것을 return 된 값으로 확인가능."
   ]
  },
  {
   "cell_type": "code",
   "execution_count": 31,
   "metadata": {},
   "outputs": [],
   "source": [
    "def change_local2():\n",
    "    print('inside printg: ', animal)\n",
    "    animal = 'wombat'\n",
    "    print('fuc change_local :' , animal)"
   ]
  },
  {
   "cell_type": "code",
   "execution_count": 34,
   "metadata": {},
   "outputs": [
    {
     "ename": "UnboundLocalError",
     "evalue": "local variable 'animal' referenced before assignment",
     "output_type": "error",
     "traceback": [
      "\u001b[1;31m---------------------------------------------------------------------------\u001b[0m",
      "\u001b[1;31mUnboundLocalError\u001b[0m                         Traceback (most recent call last)",
      "\u001b[1;32m<ipython-input-34-a8047e8fc7f7>\u001b[0m in \u001b[0;36m<module>\u001b[1;34m\u001b[0m\n\u001b[1;32m----> 1\u001b[1;33m \u001b[0mchange_local2\u001b[0m\u001b[1;33m(\u001b[0m\u001b[1;33m)\u001b[0m\u001b[1;33m\u001b[0m\u001b[1;33m\u001b[0m\u001b[0m\n\u001b[0m\u001b[0;32m      2\u001b[0m \u001b[1;31m#return error 뱉어낸다.\u001b[0m\u001b[1;33m\u001b[0m\u001b[1;33m\u001b[0m\u001b[1;33m\u001b[0m\u001b[0m\n\u001b[0;32m      3\u001b[0m \u001b[1;31m#이는 글로벌 변수를 가져와서 로컬에서 체인지 할 수 없을을 의미한다.\u001b[0m\u001b[1;33m\u001b[0m\u001b[1;33m\u001b[0m\u001b[1;33m\u001b[0m\u001b[0m\n\u001b[0;32m      4\u001b[0m \u001b[1;31m#어쨋든 로컬에서 assignment하기 전에 참조할 수 없다는 의미.\u001b[0m\u001b[1;33m\u001b[0m\u001b[1;33m\u001b[0m\u001b[1;33m\u001b[0m\u001b[0m\n",
      "\u001b[1;32m<ipython-input-31-4de21b461cd4>\u001b[0m in \u001b[0;36mchange_local2\u001b[1;34m()\u001b[0m\n\u001b[0;32m      1\u001b[0m \u001b[1;32mdef\u001b[0m \u001b[0mchange_local2\u001b[0m\u001b[1;33m(\u001b[0m\u001b[1;33m)\u001b[0m\u001b[1;33m:\u001b[0m\u001b[1;33m\u001b[0m\u001b[1;33m\u001b[0m\u001b[0m\n\u001b[1;32m----> 2\u001b[1;33m     \u001b[0mprint\u001b[0m\u001b[1;33m(\u001b[0m\u001b[1;34m'inside printg: '\u001b[0m\u001b[1;33m,\u001b[0m \u001b[0manimal\u001b[0m\u001b[1;33m)\u001b[0m\u001b[1;33m\u001b[0m\u001b[1;33m\u001b[0m\u001b[0m\n\u001b[0m\u001b[0;32m      3\u001b[0m     \u001b[0manimal\u001b[0m \u001b[1;33m=\u001b[0m \u001b[1;34m'wombat'\u001b[0m\u001b[1;33m\u001b[0m\u001b[1;33m\u001b[0m\u001b[0m\n\u001b[0;32m      4\u001b[0m     \u001b[0mprint\u001b[0m\u001b[1;33m(\u001b[0m\u001b[1;34m'fuc change_local :'\u001b[0m \u001b[1;33m,\u001b[0m \u001b[0manimal\u001b[0m\u001b[1;33m)\u001b[0m\u001b[1;33m\u001b[0m\u001b[1;33m\u001b[0m\u001b[0m\n",
      "\u001b[1;31mUnboundLocalError\u001b[0m: local variable 'animal' referenced before assignment"
     ]
    }
   ],
   "source": [
    "change_local2()\n",
    "#return error 뱉어낸다.\n",
    "#이는 글로벌 변수를 가져와서 로컬에서 체인지 할 수 없을을 의미한다.\n",
    "#어쨋든 로컬에서 assignment하기 전에 참조할 수 없다는 의미."
   ]
  },
  {
   "cell_type": "code",
   "execution_count": 23,
   "metadata": {},
   "outputs": [],
   "source": [
    "def change_local3():\n",
    "    global animal\n",
    "    #이렇게 글로벌 설정된 animal을 불러오면 오류가 발생하지 않는다.\n",
    "    print('inside printg: ', animal)\n",
    "    animal = 'wombat'\n",
    "    print('fuc change_local :' , animal)\n",
    "    #animal 자체가 글로벌로 설정되어 여기서, animal은 로컬변수가 아니라 global 변수다 "
   ]
  },
  {
   "cell_type": "code",
   "execution_count": 22,
   "metadata": {},
   "outputs": [
    {
     "name": "stdout",
     "output_type": "stream",
     "text": [
      "inside printg:  wombat\n",
      "fuc change_local : wombat\n"
     ]
    },
    {
     "data": {
      "text/plain": [
       "'wombat'"
      ]
     },
     "execution_count": 22,
     "metadata": {},
     "output_type": "execute_result"
    }
   ],
   "source": [
    "change_local3()\n",
    "animal"
   ]
  },
  {
   "cell_type": "markdown",
   "metadata": {},
   "source": [
    "## Handle Errors with try and except"
   ]
  },
  {
   "cell_type": "code",
   "execution_count": 37,
   "metadata": {},
   "outputs": [
    {
     "ename": "IndexError",
     "evalue": "list index out of range",
     "output_type": "error",
     "traceback": [
      "\u001b[1;31m---------------------------------------------------------------------------\u001b[0m",
      "\u001b[1;31mIndexError\u001b[0m                                Traceback (most recent call last)",
      "\u001b[1;32m<ipython-input-37-1ec3ab8a0519>\u001b[0m in \u001b[0;36m<module>\u001b[1;34m\u001b[0m\n\u001b[0;32m      1\u001b[0m \u001b[0mshort_list\u001b[0m \u001b[1;33m=\u001b[0m \u001b[1;33m[\u001b[0m\u001b[1;36m1\u001b[0m\u001b[1;33m,\u001b[0m\u001b[1;36m2\u001b[0m\u001b[1;33m,\u001b[0m\u001b[1;36m3\u001b[0m\u001b[1;33m]\u001b[0m\u001b[1;33m\u001b[0m\u001b[1;33m\u001b[0m\u001b[0m\n\u001b[0;32m      2\u001b[0m \u001b[0mposition\u001b[0m \u001b[1;33m=\u001b[0m \u001b[1;36m5\u001b[0m\u001b[1;33m\u001b[0m\u001b[1;33m\u001b[0m\u001b[0m\n\u001b[1;32m----> 3\u001b[1;33m \u001b[0mshort_list\u001b[0m\u001b[1;33m[\u001b[0m\u001b[0mposition\u001b[0m\u001b[1;33m]\u001b[0m \u001b[1;31m#list out of range.\u001b[0m\u001b[1;33m\u001b[0m\u001b[1;33m\u001b[0m\u001b[0m\n\u001b[0m",
      "\u001b[1;31mIndexError\u001b[0m: list index out of range"
     ]
    }
   ],
   "source": [
    "short_list = [1,2,3]\n",
    "position = 5\n",
    "short_list[position] #list out of range."
   ]
  },
  {
   "cell_type": "code",
   "execution_count": 40,
   "metadata": {},
   "outputs": [
    {
     "name": "stdout",
     "output_type": "stream",
     "text": [
      "Need a postion between 0 and 2 but got 5\n"
     ]
    }
   ],
   "source": [
    "try:\n",
    "    short_list[position]\n",
    "except:\n",
    "    print(\"Need a postion between 0 and\", len(short_list)-1, 'but got', position)\n",
    "#에러가 뜨면 아예 파일이 정지되기 때문에."
   ]
  },
  {
   "cell_type": "code",
   "execution_count": 43,
   "metadata": {},
   "outputs": [
    {
     "name": "stdout",
     "output_type": "stream",
     "text": [
      "position [q to quit]? 1\n",
      "2\n",
      "position [q to quit]? 2\n",
      "3\n",
      "position [q to quit]? 3\n",
      "Bad Index : 3 list index out of range\n",
      "position [q to quit]? 4\n",
      "Bad Index : 4 list index out of range\n",
      "position [q to quit]? a\n",
      "Somethin else broke: invalid literal for int() with base 10: 'a'\n",
      "position [q to quit]? g\n",
      "Somethin else broke: invalid literal for int() with base 10: 'g'\n",
      "position [q to quit]? 01\n",
      "2\n",
      "position [q to quit]? 0\n",
      "1\n",
      "position [q to quit]? 01\n",
      "2\n",
      "position [q to quit]? 3\n",
      "Bad Index : 3 list index out of range\n",
      "position [q to quit]? 5\n",
      "Bad Index : 5 list index out of range\n",
      "position [q to quit]? 102\n",
      "Bad Index : 102 list index out of range\n",
      "position [q to quit]? /\n",
      "Somethin else broke: invalid literal for int() with base 10: '/'\n",
      "position [q to quit]? vm\n",
      "Somethin else broke: invalid literal for int() with base 10: 'vm'\n",
      "position [q to quit]? asd\n",
      "Somethin else broke: invalid literal for int() with base 10: 'asd'\n",
      "position [q to quit]? 5\n",
      "Bad Index : 5 list index out of range\n",
      "position [q to quit]? q\n"
     ]
    }
   ],
   "source": [
    "#약간 자바스크립트에서 promise()쓰는 것처럼.\n",
    "\n",
    "while True:\n",
    "    val = input('position [q to quit]? ')\n",
    "    if val == 'q':\n",
    "        break\n",
    "        \n",
    "    try:\n",
    "        posi = int(val)\n",
    "        print(short_list[posi])\n",
    "    except IndexError as err:\n",
    "        print(\"Bad Index :\", posi, err)\n",
    "    except Exception as other:\n",
    "        print(\"Somethin else broke:\", other)"
   ]
  },
  {
   "cell_type": "markdown",
   "metadata": {},
   "source": [
    "## Module"
   ]
  },
  {
   "cell_type": "code",
   "execution_count": 18,
   "metadata": {},
   "outputs": [],
   "source": [
    "import report"
   ]
  },
  {
   "cell_type": "code",
   "execution_count": 13,
   "metadata": {},
   "outputs": [
    {
     "name": "stdout",
     "output_type": "stream",
     "text": [
      "Today's weather :  who knows?\n"
     ]
    }
   ],
   "source": [
    "desc = report.get_desc()\n",
    "print(\"Today's weather : \", desc)"
   ]
  },
  {
   "cell_type": "code",
   "execution_count": null,
   "metadata": {},
   "outputs": [],
   "source": [
    "import sys\n",
    "\n",
    "for place in sys.path"
   ]
  }
 ],
 "metadata": {
  "kernelspec": {
   "display_name": "Python 3",
   "language": "python",
   "name": "python3"
  },
  "language_info": {
   "codemirror_mode": {
    "name": "ipython",
    "version": 3
   },
   "file_extension": ".py",
   "mimetype": "text/x-python",
   "name": "python",
   "nbconvert_exporter": "python",
   "pygments_lexer": "ipython3",
   "version": "3.7.3"
  }
 },
 "nbformat": 4,
 "nbformat_minor": 2
}
